{
  "cells": [
    {
      "attachments": {},
      "cell_type": "markdown",
      "metadata": {
        "id": "nPVq0ql7J5y6"
      },
      "source": [
        "# Programming a Convolutional Autoencoder.\n",
        "\n",
        "---\n",
        "We are going to test some of its practical features (*interpolation*, *outlier detection* and *denoiser*).\n",
        "<center><img src=\"https://i.imgur.com/zdprNMz.png\" alt=\"Drawing\" width=\"600px\"/></center>\n",
        "\n",
        "\n",
        "After designing and training a ***Convolutional Autoencoder*** , we experimented with the following properties of the model:\n",
        " \n",
        "\n",
        "> **1.** *Autoencoder Denoiser :* We generate an image with noise and check that the model is capable of eliminating it. Then, we train the Autoencoder again, but this time adding noise to the *input* and not to the output with the ImageDataGenerator function that I provide us and we train the ***autoencoder*** to see if the model improves its ability to act as a *denoiser*.\n",
        "\n",
        "> **2.** *Interpolations :* We generate latent vectors for two types of images and visualize. Then we do the mathematical interpolation between the two vectors, for different degrees of mixing, and with the resulting vectors, we reconstruct the images with the *Decoder()*.\n",
        "\n",
        "> **3.** *Outliers :* We implement a method that acts as a classifier to detect whether or not an image belongs to the MNIST dataset. The method will receive an image as input, and that image will be passed through the Autoencoder, and the ***Reconstruction Error*** will be returned. We look for the threshold by which we can decide whether or not an image belongs to the dataset and we use it to return True or False accordingly.\n"
      ]
    },
    {
      "cell_type": "code",
      "execution_count": null,
      "metadata": {
        "id": "OuUvP_gpjwhm"
      },
      "outputs": [],
      "source": [
        "import numpy as np\n",
        "import scipy as sc\n",
        "import sklearn as sk\n",
        "import pandas as pd\n",
        "import seaborn as sb\n",
        "import matplotlib.pyplot as plt\n",
        "\n",
        "from sklearn.model_selection import train_test_split\n",
        "from sklearn.preprocessing import OneHotEncoder\n",
        "from tensorflow.keras.utils      import to_categorical\n",
        "\n",
        "# We load the MNIST dataset.\n",
        "mnist = np.genfromtxt('./sample_data/mnist_train_small.csv', delimiter=',')\n",
        "\n",
        "# Separate the labels from the images.\n",
        "X = mnist[:, 1:]\n",
        "Y = mnist[:, 0:1]\n",
        "\n",
        "# We scale the data and One-Hot Encoding the output.\n",
        "Xn = X / 255\n",
        "Yn = to_categorical(Y)\n",
        "\n",
        "# We use Sklearn's data splitter to train/test.\n",
        "from sklearn.model_selection import train_test_split\n",
        "\n",
        "# Partition train/test split to monitor overfitting.\n",
        "X_train, X_test, Y_train, Y_test = train_test_split(Xn, Yn, test_size=0.3)"
      ]
    },
    {
      "cell_type": "code",
      "execution_count": null,
      "metadata": {
        "id": "AveN235AxoP_"
      },
      "outputs": [],
      "source": [
        "from tensorflow.keras.layers import *\n",
        "from tensorflow.keras import *\n",
        "from tensorflow.keras.optimizers import *\n",
        "\n",
        "size = 28 # Image size.\n",
        "\n",
        "z = 10 # Size of the intermediate vector of the autoencoder.\n",
        "\n",
        "# First we create the input for the encoder.\n",
        "inpE = Input(shape=(size, size, 1))  \n",
        "\n",
        "# Convolutional layers.\n",
        "encode_1 = Conv2D(filters=32, kernel_size=3, padding=\"same\", strides=2, activation='relu')(inpE)   \n",
        "encode_2 = Conv2D(filters=64, kernel_size=3, padding=\"same\", strides=2, activation='relu')(encode_1)                      \n",
        "encode_3 = Conv2D(filters=128, kernel_size=3, strides=2, activation='relu')(encode_2)                             \n",
        "encode_4 = Flatten()(encode_3) \n",
        "\n",
        "# The last layer of the encoder gives us the latent vector.\n",
        "c = Dense(z, activation=\"tanh\")(encode_4) \n",
        "\n",
        "# Create the input for the decoder.\n",
        "inpD = Input(shape=(z))\n",
        "\n",
        "# We do a Reshape.\n",
        "FC = Dense(1152, activation=\"relu\")(inpD)\n",
        "decode = Reshape(target_shape=(3, 3, 128))(FC)\n",
        "\n",
        "# We reverse the steps of the encoder.\n",
        "decode_1 = Conv2DTranspose(filters=64, kernel_size=3, strides=2, activation='relu')(decode)\n",
        "decode_2 = Conv2DTranspose(filters=32, kernel_size=3, padding=\"same\", strides=2, activation='relu')(decode_1)\n",
        "decode_3 = Conv2DTranspose(filters=1, kernel_size=3, padding=\"same\", strides=2, activation='relu')(decode_2)\n",
        "\n",
        "# Create the encoder and decoder model.\n",
        "encoder = Model(inputs=inpE, outputs=c)\n",
        "decoder = Model(inputs=inpD, outputs=decode_3)\n",
        "\n",
        "# Create the Autoencoder.\n",
        "autoencoder = Sequential()\n",
        "autoencoder.add(encoder)\n",
        "autoencoder.add(decoder)\n",
        "\n",
        "# We compile and optimize.\n",
        "autoencoder.compile(optimizer=Adam(), loss='mse')"
      ]
    },
    {
      "cell_type": "code",
      "execution_count": null,
      "metadata": {
        "colab": {
          "base_uri": "https://localhost:8080/"
        },
        "id": "azGwC1Ylx3qS",
        "outputId": "70bca9a7-e061-4815-9b31-3ddd7f57b287"
      },
      "outputs": [
        {
          "name": "stdout",
          "output_type": "stream",
          "text": [
            "Epoch 1/100\n",
            "110/110 [==============================] - 11s 7ms/step - loss: 0.0654\n",
            "Epoch 2/100\n",
            "110/110 [==============================] - 1s 6ms/step - loss: 0.0325\n",
            "Epoch 3/100\n",
            "110/110 [==============================] - 1s 6ms/step - loss: 0.0240\n",
            "Epoch 4/100\n",
            "110/110 [==============================] - 1s 6ms/step - loss: 0.0208\n",
            "Epoch 5/100\n",
            "110/110 [==============================] - 1s 6ms/step - loss: 0.0192\n",
            "Epoch 6/100\n",
            "110/110 [==============================] - 1s 6ms/step - loss: 0.0181\n",
            "Epoch 7/100\n",
            "110/110 [==============================] - 1s 6ms/step - loss: 0.0173\n",
            "Epoch 8/100\n",
            "110/110 [==============================] - 1s 8ms/step - loss: 0.0167\n",
            "Epoch 9/100\n",
            "110/110 [==============================] - 1s 7ms/step - loss: 0.0161\n",
            "Epoch 10/100\n",
            "110/110 [==============================] - 1s 6ms/step - loss: 0.0157\n",
            "Epoch 11/100\n",
            "110/110 [==============================] - 1s 6ms/step - loss: 0.0153\n",
            "Epoch 12/100\n",
            "110/110 [==============================] - 1s 6ms/step - loss: 0.0150\n",
            "Epoch 13/100\n",
            "110/110 [==============================] - 1s 6ms/step - loss: 0.0147\n",
            "Epoch 14/100\n",
            "110/110 [==============================] - 1s 6ms/step - loss: 0.0144\n",
            "Epoch 15/100\n",
            "110/110 [==============================] - 1s 6ms/step - loss: 0.0142\n",
            "Epoch 16/100\n",
            "110/110 [==============================] - 1s 6ms/step - loss: 0.0140\n",
            "Epoch 17/100\n",
            "110/110 [==============================] - 1s 6ms/step - loss: 0.0137\n",
            "Epoch 18/100\n",
            "110/110 [==============================] - 1s 6ms/step - loss: 0.0136\n",
            "Epoch 19/100\n",
            "110/110 [==============================] - 1s 6ms/step - loss: 0.0134\n",
            "Epoch 20/100\n",
            "110/110 [==============================] - 1s 6ms/step - loss: 0.0132\n",
            "Epoch 21/100\n",
            "110/110 [==============================] - 1s 6ms/step - loss: 0.0131\n",
            "Epoch 22/100\n",
            "110/110 [==============================] - 1s 7ms/step - loss: 0.0129\n",
            "Epoch 23/100\n",
            "110/110 [==============================] - 1s 8ms/step - loss: 0.0128\n",
            "Epoch 24/100\n",
            "110/110 [==============================] - 1s 8ms/step - loss: 0.0126\n",
            "Epoch 25/100\n",
            "110/110 [==============================] - 1s 8ms/step - loss: 0.0125\n",
            "Epoch 26/100\n",
            "110/110 [==============================] - 1s 6ms/step - loss: 0.0124\n",
            "Epoch 27/100\n",
            "110/110 [==============================] - 1s 6ms/step - loss: 0.0123\n",
            "Epoch 28/100\n",
            "110/110 [==============================] - 1s 6ms/step - loss: 0.0121\n",
            "Epoch 29/100\n",
            "110/110 [==============================] - 1s 6ms/step - loss: 0.0121\n",
            "Epoch 30/100\n",
            "110/110 [==============================] - 1s 6ms/step - loss: 0.0119\n",
            "Epoch 31/100\n",
            "110/110 [==============================] - 1s 6ms/step - loss: 0.0119\n",
            "Epoch 32/100\n",
            "110/110 [==============================] - 1s 6ms/step - loss: 0.0118\n",
            "Epoch 33/100\n",
            "110/110 [==============================] - 1s 6ms/step - loss: 0.0116\n",
            "Epoch 34/100\n",
            "110/110 [==============================] - 1s 6ms/step - loss: 0.0116\n",
            "Epoch 35/100\n",
            "110/110 [==============================] - 1s 6ms/step - loss: 0.0116\n",
            "Epoch 36/100\n",
            "110/110 [==============================] - 1s 6ms/step - loss: 0.0114\n",
            "Epoch 37/100\n",
            "110/110 [==============================] - 1s 6ms/step - loss: 0.0114\n",
            "Epoch 38/100\n",
            "110/110 [==============================] - 1s 6ms/step - loss: 0.0113\n",
            "Epoch 39/100\n",
            "110/110 [==============================] - 1s 6ms/step - loss: 0.0113\n",
            "Epoch 40/100\n",
            "110/110 [==============================] - 1s 6ms/step - loss: 0.0112\n",
            "Epoch 41/100\n",
            "110/110 [==============================] - 1s 8ms/step - loss: 0.0112\n",
            "Epoch 42/100\n",
            "110/110 [==============================] - 1s 7ms/step - loss: 0.0111\n",
            "Epoch 43/100\n",
            "110/110 [==============================] - 1s 6ms/step - loss: 0.0110\n",
            "Epoch 44/100\n",
            "110/110 [==============================] - 1s 6ms/step - loss: 0.0109\n",
            "Epoch 45/100\n",
            "110/110 [==============================] - 1s 6ms/step - loss: 0.0109\n",
            "Epoch 46/100\n",
            "110/110 [==============================] - 1s 6ms/step - loss: 0.0108\n",
            "Epoch 47/100\n",
            "110/110 [==============================] - 1s 6ms/step - loss: 0.0108\n",
            "Epoch 48/100\n",
            "110/110 [==============================] - 1s 6ms/step - loss: 0.0107\n",
            "Epoch 49/100\n",
            "110/110 [==============================] - 1s 6ms/step - loss: 0.0106\n",
            "Epoch 50/100\n",
            "110/110 [==============================] - 1s 6ms/step - loss: 0.0106\n",
            "Epoch 51/100\n",
            "110/110 [==============================] - 1s 6ms/step - loss: 0.0106\n",
            "Epoch 52/100\n",
            "110/110 [==============================] - 1s 6ms/step - loss: 0.0105\n",
            "Epoch 53/100\n",
            "110/110 [==============================] - 1s 6ms/step - loss: 0.0105\n",
            "Epoch 54/100\n",
            "110/110 [==============================] - 1s 6ms/step - loss: 0.0104\n",
            "Epoch 55/100\n",
            "110/110 [==============================] - 1s 6ms/step - loss: 0.0104\n",
            "Epoch 56/100\n",
            "110/110 [==============================] - 1s 6ms/step - loss: 0.0103\n",
            "Epoch 57/100\n",
            "110/110 [==============================] - 1s 7ms/step - loss: 0.0103\n",
            "Epoch 58/100\n",
            "110/110 [==============================] - 1s 8ms/step - loss: 0.0102\n",
            "Epoch 59/100\n",
            "110/110 [==============================] - 1s 7ms/step - loss: 0.0102\n",
            "Epoch 60/100\n",
            "110/110 [==============================] - 1s 6ms/step - loss: 0.0102\n",
            "Epoch 61/100\n",
            "110/110 [==============================] - 1s 6ms/step - loss: 0.0102\n",
            "Epoch 62/100\n",
            "110/110 [==============================] - 1s 6ms/step - loss: 0.0101\n",
            "Epoch 63/100\n",
            "110/110 [==============================] - 1s 6ms/step - loss: 0.0101\n",
            "Epoch 64/100\n",
            "110/110 [==============================] - 1s 6ms/step - loss: 0.0100\n",
            "Epoch 65/100\n",
            "110/110 [==============================] - 1s 6ms/step - loss: 0.0100\n",
            "Epoch 66/100\n",
            "110/110 [==============================] - 1s 6ms/step - loss: 0.0100\n",
            "Epoch 67/100\n",
            "110/110 [==============================] - 1s 7ms/step - loss: 0.0099\n",
            "Epoch 68/100\n",
            "110/110 [==============================] - 1s 7ms/step - loss: 0.0099\n",
            "Epoch 69/100\n",
            "110/110 [==============================] - 1s 7ms/step - loss: 0.0099\n",
            "Epoch 70/100\n",
            "110/110 [==============================] - 1s 6ms/step - loss: 0.0098\n",
            "Epoch 71/100\n",
            "110/110 [==============================] - 1s 6ms/step - loss: 0.0098\n",
            "Epoch 72/100\n",
            "110/110 [==============================] - 1s 6ms/step - loss: 0.0098\n",
            "Epoch 73/100\n",
            "110/110 [==============================] - 1s 8ms/step - loss: 0.0097\n",
            "Epoch 74/100\n",
            "110/110 [==============================] - 1s 8ms/step - loss: 0.0098\n",
            "Epoch 75/100\n",
            "110/110 [==============================] - 1s 6ms/step - loss: 0.0097\n",
            "Epoch 76/100\n",
            "110/110 [==============================] - 1s 6ms/step - loss: 0.0097\n",
            "Epoch 77/100\n",
            "110/110 [==============================] - 1s 6ms/step - loss: 0.0097\n",
            "Epoch 78/100\n",
            "110/110 [==============================] - 1s 6ms/step - loss: 0.0096\n",
            "Epoch 79/100\n",
            "110/110 [==============================] - 1s 7ms/step - loss: 0.0096\n",
            "Epoch 80/100\n",
            "110/110 [==============================] - 1s 7ms/step - loss: 0.0096\n",
            "Epoch 81/100\n",
            "110/110 [==============================] - 1s 6ms/step - loss: 0.0095\n",
            "Epoch 82/100\n",
            "110/110 [==============================] - 1s 6ms/step - loss: 0.0095\n",
            "Epoch 83/100\n",
            "110/110 [==============================] - 1s 6ms/step - loss: 0.0094\n",
            "Epoch 84/100\n",
            "110/110 [==============================] - 1s 6ms/step - loss: 0.0095\n",
            "Epoch 85/100\n",
            "110/110 [==============================] - 1s 6ms/step - loss: 0.0095\n",
            "Epoch 86/100\n",
            "110/110 [==============================] - 1s 6ms/step - loss: 0.0094\n",
            "Epoch 87/100\n",
            "110/110 [==============================] - 1s 6ms/step - loss: 0.0094\n",
            "Epoch 88/100\n",
            "110/110 [==============================] - 1s 6ms/step - loss: 0.0094\n",
            "Epoch 89/100\n",
            "110/110 [==============================] - 1s 8ms/step - loss: 0.0093\n",
            "Epoch 90/100\n",
            "110/110 [==============================] - 1s 8ms/step - loss: 0.0093\n",
            "Epoch 91/100\n",
            "110/110 [==============================] - 1s 6ms/step - loss: 0.0093\n",
            "Epoch 92/100\n",
            "110/110 [==============================] - 1s 6ms/step - loss: 0.0093\n",
            "Epoch 93/100\n",
            "110/110 [==============================] - 1s 6ms/step - loss: 0.0093\n",
            "Epoch 94/100\n",
            "110/110 [==============================] - 1s 6ms/step - loss: 0.0093\n",
            "Epoch 95/100\n",
            "110/110 [==============================] - 1s 6ms/step - loss: 0.0092\n",
            "Epoch 96/100\n",
            "110/110 [==============================] - 1s 6ms/step - loss: 0.0092\n",
            "Epoch 97/100\n",
            "110/110 [==============================] - 1s 6ms/step - loss: 0.0092\n",
            "Epoch 98/100\n",
            "110/110 [==============================] - 1s 6ms/step - loss: 0.0092\n",
            "Epoch 99/100\n",
            "110/110 [==============================] - 1s 6ms/step - loss: 0.0091\n",
            "Epoch 100/100\n",
            "110/110 [==============================] - 1s 6ms/step - loss: 0.0091\n"
          ]
        },
        {
          "data": {
            "text/plain": [
              "<keras.callbacks.History at 0x7f94f09c7670>"
            ]
          },
          "execution_count": 3,
          "metadata": {},
          "output_type": "execute_result"
        }
      ],
      "source": [
        "autoencoder.fit(X_train.reshape(-1, size, size, 1), X_train.reshape(-1, size, size, 1), epochs=100, batch_size=128)"
      ]
    },
    {
      "cell_type": "code",
      "execution_count": null,
      "metadata": {
        "colab": {
          "base_uri": "https://localhost:8080/"
        },
        "id": "FIY8snO9yJlz",
        "outputId": "1617e3a3-cf22-432c-f6d2-75da4a70185b"
      },
      "outputs": [
        {
          "name": "stdout",
          "output_type": "stream",
          "text": [
            "188/188 [==============================] - 1s 3ms/step - loss: 0.0134\n"
          ]
        },
        {
          "data": {
            "text/plain": [
              "0.013399317860603333"
            ]
          },
          "execution_count": 4,
          "metadata": {},
          "output_type": "execute_result"
        }
      ],
      "source": [
        "autoencoder.evaluate(X_test.reshape(-1, 28, 28, 1), X_test.reshape(-1, 28, 28, 1))"
      ]
    },
    {
      "cell_type": "code",
      "execution_count": null,
      "metadata": {
        "colab": {
          "base_uri": "https://localhost:8080/",
          "height": 263
        },
        "id": "9jB4ZDQNyAmB",
        "outputId": "3dac40f1-d4cc-445e-acea-b88060c74f07"
      },
      "outputs": [
        {
          "name": "stdout",
          "output_type": "stream",
          "text": [
            "1/1 [==============================] - 0s 123ms/step\n",
            "1/1 [==============================] - 0s 146ms/step\n"
          ]
        },
        {
          "data": {
            "image/png": "[encoded data removed]",
            "text/plain": [
              "<Figure size 720x720 with 3 Axes>"
            ]
          },
          "metadata": {
            "needs_background": "light"
          },
          "output_type": "display_data"
        }
      ],
      "source": [
        "for enc, dec, mod in [(encoder, decoder, autoencoder)]:\n",
        "\n",
        "  img = X_test[49].reshape(1, 28, 28, 1)\n",
        "\n",
        "  fig, axs = plt.subplots(1, 3, figsize=(10, 10))\n",
        "\n",
        "  fig.axes[0].matshow(img[0,:,:,0])\n",
        "  fig.axes[0].axis(\"off\")\n",
        "  fig.axes[0].set_title(\"Input\")\n",
        "\n",
        "  fig.axes[1].matshow(enc.predict(img))\n",
        "  fig.axes[1].axis(\"off\")\n",
        "  fig.axes[1].set_title(\"Vector latente\")\n",
        "\n",
        "  fig.axes[2].matshow(np.clip(mod.predict(img)[0, :, :, 0],0,1))\n",
        "  fig.axes[2].axis(\"off\")\n",
        "  fig.axes[2].set_title(\"Output\")\n",
        "\n",
        "  plt.show()"
      ]
    }
  ],
  "metadata": {
    "accelerator": "GPU",
    "colab": {
      "provenance": []
    },
    "kernelspec": {
      "display_name": "Python 3",
      "name": "python3"
    },
    "language_info": {
      "name": "python"
    }
  },
  "nbformat": 4,
  "nbformat_minor": 0
}
